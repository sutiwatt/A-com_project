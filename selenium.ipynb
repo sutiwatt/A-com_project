{
 "cells": [
  {
   "cell_type": "code",
   "execution_count": 95,
   "metadata": {},
   "outputs": [
    {
     "name": "stderr",
     "output_type": "stream",
     "text": [
      "C:\\Users\\Mycloud\\AppData\\Local\\Temp\\ipykernel_14068\\734202539.py:4: DeprecationWarning: executable_path has been deprecated, please pass in a Service object\n",
      "  driver = webdriver.Chrome('/path/to/chromedriver')\n"
     ]
    }
   ],
   "source": [
    "from selenium import webdriver\n",
    "driver = webdriver.Chrome('/path/to/chromedriver')\n",
    "\n",
    "# Open the webpage\n",
    "url = 'https://th-acom02.platform.acommerce.asia/scale/insights/2774'\n",
    "driver.get(url)\n"
   ]
  },
  {
   "cell_type": "code",
   "execution_count": 118,
   "metadata": {},
   "outputs": [],
   "source": [
    "import pandas as pd\n",
    "\n",
    "single = pd.read_excel(r'FFO_uniliver_single.xlsx')\n",
    "\n",
    "key = 'BVD1RFDWJUO5C4HK95GG3HT1F'\n",
    "orders = single.loc[single['ACOM ITEM KEY'] == key]\n",
    "orders_for_list = orders.drop_duplicates(subset='FULFILLMENT NO')\n",
    "orders_list = orders_for_list['FULFILLMENT NO'].tolist()\n",
    "count = len(orders_list)\n",
    "print(count)\n",
    "my_list = orders_list\n"
   ]
  },
  {
   "cell_type": "code",
   "execution_count": 143,
   "metadata": {},
   "outputs": [],
   "source": [
    "from selenium.webdriver.common.by import By\n",
    "\n",
    "# Find the checkbox elements\n",
    "checkbox_elements = driver.find_elements(By.CSS_SELECTOR, '.ui-iggrid-rowselector-class [name=\"chk\"]')\n",
    "\n",
    "# Find the FF ID elements\n",
    "ff_id_elements = driver.find_elements(By.CSS_SELECTOR, 'a[href^=\"/scale/details/shipment/\"]')\n",
    "\n",
    "\n",
    "# Iterate over the FF ID elements\n",
    "for i in range(len(ff_id_elements)):\n",
    "    ff_id = ff_id_elements[i].text\n",
    "    \n",
    "    # Check if the FF ID matches any of the desired IDs in your list\n",
    "    if ff_id in my_list:\n",
    "        # Check the corresponding checkbox element\n",
    "        checkbox_elements[i].click()\n"
   ]
  }
 ],
 "metadata": {
  "kernelspec": {
   "display_name": "base",
   "language": "python",
   "name": "python3"
  },
  "language_info": {
   "codemirror_mode": {
    "name": "ipython",
    "version": 3
   },
   "file_extension": ".py",
   "mimetype": "text/x-python",
   "name": "python",
   "nbconvert_exporter": "python",
   "pygments_lexer": "ipython3",
   "version": "3.10.9"
  },
  "orig_nbformat": 4
 },
 "nbformat": 4,
 "nbformat_minor": 2
}
